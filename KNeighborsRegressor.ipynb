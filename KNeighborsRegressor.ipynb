{
 "cells": [
  {
   "cell_type": "code",
   "execution_count": 1,
   "metadata": {},
   "outputs": [],
   "source": [
    "#Importamos el KNeighbors Regresor y np para manejo de vectores\n",
    "from sklearn.neighbors import KNeighborsRegressor\n",
    "import numpy as np"
   ]
  },
  {
   "cell_type": "code",
   "execution_count": 5,
   "metadata": {},
   "outputs": [],
   "source": [
    "#Definimos los datos de entrada y sus respectivos target\n",
    "X = np.array([[28, 0, 0],\n",
    "              [22, 3, 1],\n",
    "              [24, 1, 1],\n",
    "              [17, 2, 1],\n",
    "              [50, 2, 0],\n",
    "              [18, 1, 1],\n",
    "              [25, 2, 1],\n",
    "              [40, 2, 1],\n",
    "              [33, 1, 1],\n",
    "              [29, 1, 0],\n",
    "              [31, 2, 0],\n",
    "              [20, 3, 1],\n",
    "              [25, 3, 0],\n",
    "              [49, 2, 0]])\n",
    "target = [1, 0, 0, 0, 1, 0, 0, 0, 0, 0, 1, 0, 1, 1]"
   ]
  },
  {
   "cell_type": "code",
   "execution_count": 6,
   "metadata": {},
   "outputs": [],
   "source": [
    "#Definimos la cantidad de vecinos\n",
    "quantity_neighbors = 3\n",
    "#Creamos el regresor y pasamos la cantidad de vecinos\n",
    "kneighborsRegresor = KNeighborsRegressor(quantity_neighbors)"
   ]
  },
  {
   "cell_type": "code",
   "execution_count": 7,
   "metadata": {},
   "outputs": [
    {
     "data": {
      "text/plain": [
       "KNeighborsRegressor(algorithm='auto', leaf_size=30, metric='minkowski',\n",
       "          metric_params=None, n_jobs=None, n_neighbors=3, p=2,\n",
       "          weights='uniform')"
      ]
     },
     "execution_count": 7,
     "metadata": {},
     "output_type": "execute_result"
    }
   ],
   "source": [
    "#Alimentamos al regresor\n",
    "kneighborsRegresor.fit(X, target)"
   ]
  },
  {
   "cell_type": "code",
   "execution_count": 7,
   "metadata": {},
   "outputs": [
    {
     "data": {
      "text/plain": [
       "array([0.66666667])"
      ]
     },
     "execution_count": 7,
     "metadata": {},
     "output_type": "execute_result"
    }
   ],
   "source": [
    "#Definimos un arreglo de datos de prueba\n",
    "test = np.array([[28.0,3.0,0.0],\n",
    "               [22.0,3.0,1.0],\n",
    "               [24.0,1.0,1.0],\n",
    "               [17.0,2.0,1.0],\n",
    "               [50.0,2.0,0.0],\n",
    "               [18.0,1.0,1.0],\n",
    "               [25.0,2.0,1.0],\n",
    "               [40.0,2.0,1.0],\n",
    "               [33.0,1.0,1.0],\n",
    "               [29.0,1.0,0.0],\n",
    "               [31.0,2.0,0.0],\n",
    "               [20.0,3.0,1.0],\n",
    "               [25.0,3.0,0.0],\n",
    "               [49.0,2.0,0.0]\n",
    "              ])"
   ]
  },
  {
   "cell_type": "code",
   "execution_count": null,
   "metadata": {},
   "outputs": [],
   "source": [
    "kneighborsRegresor.predict(test)"
   ]
  }
 ],
 "metadata": {
  "kernelspec": {
   "display_name": "Python 3",
   "language": "python",
   "name": "python3"
  },
  "language_info": {
   "codemirror_mode": {
    "name": "ipython",
    "version": 3
   },
   "file_extension": ".py",
   "mimetype": "text/x-python",
   "name": "python",
   "nbconvert_exporter": "python",
   "pygments_lexer": "ipython3",
   "version": "3.7.3"
  }
 },
 "nbformat": 4,
 "nbformat_minor": 2
}
