{
 "cells": [
  {
   "cell_type": "code",
   "execution_count": 1,
   "metadata": {},
   "outputs": [],
   "source": [
    "#Importamos el KNeighbors Regresor y np para manejo de vectores\n",
    "from sklearn.neighbors import KNeighborsClassifier\n",
    "import matplotlib.pyplot as plt\n",
    "import numpy as np"
   ]
  },
  {
   "cell_type": "code",
   "execution_count": 2,
   "metadata": {},
   "outputs": [],
   "source": [
    "#Definimos los datos de entrada y sus respectivos target\n",
    "X = np.array([[42.0,2.0,1.0],\n",
    "               [46.0,3.0,1.0],\n",
    "               [50.0,1.0,1.0],\n",
    "               [30.0,1.0,1.0],\n",
    "               [40.0,1.0,1.0],\n",
    "               [39.0,2.0,1.0],\n",
    "               [15.0,1.0,0.0],\n",
    "               [16.0,1.0,1.0],\n",
    "               [20.0,2.0,0.0],\n",
    "               [18.0,3.0,1.0],\n",
    "               [24.0,3.0,0.0],\n",
    "               [30.0,1.0,1.0],\n",
    "               [37.0,2.0,1.0],\n",
    "               [19.0,1.0,1.0],\n",
    "               [23.0,1.0,1.0],\n",
    "               [49.0,2.0,0.0],\n",
    "               [40.0,1.0,1.0],\n",
    "               [24.0,2.0,0.0],\n",
    "               [22.0,2.0,0.0],\n",
    "               [26.0,3.0,0.0]])\n",
    "target = [0,0,0,0,0,0,0,0,0,0,1,0,0,0,0,1,0,1,1,1]"
   ]
  },
  {
   "cell_type": "code",
   "execution_count": 3,
   "metadata": {},
   "outputs": [],
   "source": [
    "#Definimos la cantidad de vecinos\n",
    "quantity_neighbors = 3\n",
    "#Creamos el regresor y pasamos la cantidad de vecinos\n",
    "kneighborsClassifier=KNeighborsClassifier(quantity_neighbors)"
   ]
  },
  {
   "cell_type": "code",
   "execution_count": 4,
   "metadata": {},
   "outputs": [
    {
     "data": {
      "text/plain": [
       "KNeighborsClassifier(algorithm='auto', leaf_size=30, metric='minkowski',\n",
       "           metric_params=None, n_jobs=None, n_neighbors=3, p=2,\n",
       "           weights='uniform')"
      ]
     },
     "execution_count": 4,
     "metadata": {},
     "output_type": "execute_result"
    }
   ],
   "source": [
    "#Alimentamos al regresor\n",
    "kneighborsClassifier.fit(X,target)"
   ]
  },
  {
   "cell_type": "code",
   "execution_count": 5,
   "metadata": {},
   "outputs": [
    {
     "data": {
      "text/plain": [
       "0.85"
      ]
     },
     "execution_count": 5,
     "metadata": {},
     "output_type": "execute_result"
    }
   ],
   "source": [
    "#Verificamos el puntaje de exactitud\n",
    "kneighborsClassifier.score(X,target)"
   ]
  },
  {
   "cell_type": "code",
   "execution_count": 6,
   "metadata": {},
   "outputs": [],
   "source": [
    "#Definimos un arreglo de datos de prueba\n",
    "x_test = np.array([[28, 0, 0],\n",
    "              [22, 3, 1],\n",
    "              [24, 1, 1],\n",
    "              [17, 2, 1],\n",
    "              [50, 2, 0],\n",
    "              [18, 1, 1],\n",
    "              [25, 2, 1],\n",
    "              [40, 2, 1],\n",
    "              [33, 1, 1],\n",
    "              [29, 1, 0],\n",
    "              [31, 2, 0],\n",
    "              [20, 3, 1],\n",
    "              [25, 3, 0],\n",
    "              [49, 2, 0]])\n",
    "\n",
    "y_test = [1, 0, 0, 0, 1, 0, 0, 0, 0, 0, 1, 0, 1, 1]"
   ]
  },
  {
   "cell_type": "code",
   "execution_count": 7,
   "metadata": {},
   "outputs": [
    {
     "data": {
      "text/plain": [
       "array([0, 1, 1, 0, 0, 0, 1, 0, 0, 0, 0, 0, 1, 0])"
      ]
     },
     "execution_count": 7,
     "metadata": {},
     "output_type": "execute_result"
    },
    {
     "data": {
      "image/png": "[encoded data removed]",
      "text/plain": [
       "<Figure size 288x216 with 1 Axes>"
      ]
     },
     "metadata": {
      "needs_background": "light"
     },
     "output_type": "display_data"
    }
   ],
   "source": [
    "#Graficamos\n",
    "predicted = kneighborsClassifier.predict(x_test)\n",
    "expected = y_test\n",
    "plt.figure(figsize=(4,3))\n",
    "plt.scatter(expected,predicted)\n",
    "plt.plot([0,1], [0,1], '--k')\n",
    "plt.axis('tight')\n",
    "plt.tight_layout()\n",
    "\n",
    "predicted"
   ]
  },
  {
   "cell_type": "code",
   "execution_count": 10,
   "metadata": {},
   "outputs": [
    {
     "data": {
      "text/plain": [
       "array([0, 1, 1, 0, 0, 0, 1, 0, 0, 0, 0, 0, 1, 0])"
      ]
     },
     "execution_count": 10,
     "metadata": {},
     "output_type": "execute_result"
    }
   ],
   "source": [
    "#Predecimos el comportamiento\n",
    "salida = kneighborsClassifier.predict(x_test)\n",
    "salida"
   ]
  },
  {
   "cell_type": "code",
   "execution_count": 11,
   "metadata": {},
   "outputs": [
    {
     "data": {
      "text/plain": [
       "[1, 0, 0, 0, 1, 0, 0, 0, 0, 0, 1, 0, 1, 1]"
      ]
     },
     "execution_count": 11,
     "metadata": {},
     "output_type": "execute_result"
    }
   ],
   "source": [
    "#Imprimos los valores esperados\n",
    "y_test"
   ]
  },
  {
   "cell_type": "code",
   "execution_count": null,
   "metadata": {},
   "outputs": [],
   "source": []
  }
 ],
 "metadata": {
  "kernelspec": {
   "display_name": "Python 3",
   "language": "python",
   "name": "python3"
  },
  "language_info": {
   "codemirror_mode": {
    "name": "ipython",
    "version": 3
   },
   "file_extension": ".py",
   "mimetype": "text/x-python",
   "name": "python",
   "nbconvert_exporter": "python",
   "pygments_lexer": "ipython3",
   "version": "3.7.3"
  }
 },
 "nbformat": 4,
 "nbformat_minor": 2
}
