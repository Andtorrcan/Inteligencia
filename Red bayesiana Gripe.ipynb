{
 "cells": [
  {
   "cell_type": "code",
   "execution_count": 1,
   "metadata": {},
   "outputs": [],
   "source": [
    "#Probalididades riegso\n",
    "przAlta = 0.10\n",
    "przMedia = 0.10\n",
    "przBaja = 0.8\n",
    "#Porbabildiades de que tipo sanguineo\n",
    "psAlta = 0.6\n",
    "psBaja = 0.4"
   ]
  },
  {
   "cell_type": "code",
   "execution_count": 2,
   "metadata": {},
   "outputs": [],
   "source": [
    "#Probabilidad  de gripa dependiente de tipo de sangre y zona de origen\n",
    "# Tipo de sangre con mayor inmunidad en zonas\n",
    "prsBajazAlta = 0.015\n",
    "prsBajazMedia = 0.003\n",
    "prsBajazBaja = 0.0003\n",
    "# Tipo de sangre con menor inmunidad en zonas\n",
    "prsAltazAlta = 0.022\n",
    "prsAltazMedia = 0.012\n",
    "prsAltazBaja = 0.0008"
   ]
  },
  {
   "cell_type": "code",
   "execution_count": 3,
   "metadata": {},
   "outputs": [],
   "source": [
    "#Probabilidad de tener o no gripa dependiendo de moqueo\n",
    "#Prob de gripa con Moqueo\n",
    "pgsiMoqueo = 0.992\n",
    "#Prob de gripa sin moqueo\n",
    "pgnoMoqueo = 0.006"
   ]
  },
  {
   "cell_type": "code",
   "execution_count": 4,
   "metadata": {},
   "outputs": [],
   "source": [
    "#Probabilidad de tener o no gripa dependiendo de fiebre\n",
    "#Prob de gripa con fiebre\n",
    "pgsiFiebre = 0.98\n",
    "#Prob de gripa sin fiebre\n",
    "pgnoFiebre = 0.017"
   ]
  },
  {
   "cell_type": "code",
   "execution_count": 6,
   "metadata": {},
   "outputs": [
    {
     "name": "stdout",
     "output_type": "stream",
     "text": [
      "3.7632e-05\n"
     ]
    }
   ],
   "source": [
    "#Probabilidad de tener gripa en una zona de alto riesgo con sangre menos inmunde, sin moqueo y con fiebre\n",
    "# p = pszMedia * psBaja *p(gripa | zmedia y sBaja ) * p(sin moqueo|gripa) * p(siFiebre| gripa)\n",
    "prGripaconzAltasBajanoMoqueoSiFiebre= przAlta*psBaja*0.12*0.008*pgsiFiebre\n",
    "print(prGripaconzAltasBajanoMoqueoSiFiebre)"
   ]
  },
  {
   "cell_type": "code",
   "execution_count": 7,
   "metadata": {},
   "outputs": [
    {
     "name": "stdout",
     "output_type": "stream",
     "text": [
      "0.0005948096000000002\n"
     ]
    }
   ],
   "source": [
    "#Probabilidad de no tener gripa en zona media, menos inmunidad, sin  moqueo y con fiebre\n",
    "#\n",
    "prnoGripazMediasBajanoMoqueoSiFiebre = przMedia * psBaja * pgnoFiebre * 0.88 * 0.994\n",
    "print(prnoGripazMediasBajanoMoqueoSiFiebre)"
   ]
  },
  {
   "cell_type": "code",
   "execution_count": 9,
   "metadata": {},
   "outputs": [
    {
     "name": "stdout",
     "output_type": "stream",
     "text": [
      "0.0006324000000000001\n"
     ]
    }
   ],
   "source": [
    "#Prob de estar en zona media,sangre menos inmune, sin moqueo y con fiebre\n",
    "przMedianoMoqueosBajaSiFiebre = 0.0000376 + 0.0005948\n",
    "print(przMedianoMoqueosBajaSiFiebre)"
   ]
  },
  {
   "cell_type": "code",
   "execution_count": 10,
   "metadata": {},
   "outputs": [
    {
     "name": "stdout",
     "output_type": "stream",
     "text": [
      "0.059456040480708405\n"
     ]
    }
   ],
   "source": [
    "#Prib de teniendo fiebre, sin moqueo, sangre menos inmune y zona de medio riego tenga gripa\n",
    "# p = (zMedia, sBaja, gripa,noMoqueo, siFiebre)/(zMedia, sBaja,noMoqueo, siFiebre)\n",
    "p = 0.0000376/przMedianoMoqueosBajaSiFiebre\n",
    "print(p)"
   ]
  },
  {
   "cell_type": "code",
   "execution_count": 14,
   "metadata": {},
   "outputs": [
    {
     "name": "stdout",
     "output_type": "stream",
     "text": [
      "No tiene gripita\n"
     ]
    }
   ],
   "source": [
    "if(p >= 0.6):\n",
    "    print(\"Tiene gripita\")\n",
    "elif (p < 0.6):\n",
    "    print(\"No tiene gripita\")\n"
   ]
  },
  {
   "cell_type": "code",
   "execution_count": null,
   "metadata": {},
   "outputs": [],
   "source": []
  }
 ],
 "metadata": {
  "kernelspec": {
   "display_name": "Python 3",
   "language": "python",
   "name": "python3"
  },
  "language_info": {
   "codemirror_mode": {
    "name": "ipython",
    "version": 3
   },
   "file_extension": ".py",
   "mimetype": "text/x-python",
   "name": "python",
   "nbconvert_exporter": "python",
   "pygments_lexer": "ipython3",
   "version": "3.7.3"
  }
 },
 "nbformat": 4,
 "nbformat_minor": 2
}
