{
 "cells": [
  {
   "cell_type": "code",
   "execution_count": 1,
   "metadata": {},
   "outputs": [
    {
     "name": "stdout",
     "output_type": "stream",
     "text": [
      "[2, 3, 4, 6, 8, 10, 9, 6, 2, 2]\n",
      "[3, 4, 6, 10, 6, 5, 7, 6, 5, 5]\n",
      "[3, 9, 1, 3, 5, 7, 7, 10, 4, 4, 4]\n",
      "[5, 8, 2, 5, 3, 7, 3, 2, 3, 4]\n",
      "[6, 4, 4, 10, 6, 10, 3, 7, 5, 6, 1]\n",
      "[10, 5, 3, 4, 3, 6, 1, 7, 1, 7, 8]\n",
      "[8, 5, 6, 3, 3, 3, 6, 7, 3, 10, 4]\n",
      "[6, 4, 3, 5, 5, 10, 1, 7, 9, 6, 8]\n",
      "[6, 6, 2, 1, 8, 10, 4, 1, 2, 5, 5]\n",
      "[9, 3, 5, 1, 4, 10, 10, 1, 10, 4, 9]\n",
      "[[2, 3, 4, 6, 8, 10, 9, 6, 2, 2], [3, 4, 6, 10, 6, 5, 7, 6, 5, 5], [3, 9, 1, 3, 5, 7, 7, 10, 4, 4, 4], [5, 8, 2, 5, 3, 7, 3, 2, 3, 4], [6, 4, 4, 10, 6, 10, 3, 7, 5, 6, 1], [10, 5, 3, 4, 3, 6, 1, 7, 1, 7, 8], [8, 5, 6, 3, 3, 3, 6, 7, 3, 10, 4], [6, 4, 3, 5, 5, 10, 1, 7, 9, 6, 8], [6, 6, 2, 1, 8, 10, 4, 1, 2, 5, 5], [9, 3, 5, 1, 4, 10, 10, 1, 10, 4, 9]]\n"
     ]
    }
   ],
   "source": [
    "import math;\n",
    "\n",
    "m0 = [2,3,4,6,8,10,9,6,2,1];\n",
    "\n",
    "i1 = [2,3,4,6,8,10,9,6,2,2];\n",
    "i2 = [3,4,6,10,6,5,7,6,5,5];\n",
    "i3 = [3,9,1,3,5,7,7,10,4,4,4];\n",
    "i4 = [5,8,2,5,3,7,3,2,3,4];\n",
    "i5 = [6,4,4,10,6,10,3,7,5,6,1];\n",
    "i6 = [10,5,3,4,3,6,1,7,1,7,8];\n",
    "i7 = [8,5,6,3,3,3,6,7,3,10,4];\n",
    "i8 = [6,4,3,5,5,10,1,7,9,6,8];\n",
    "i9 = [6,6,2,1,8,10,4,1,2,5,5];\n",
    "i10 = [9,3,5,1,4,10,10,1,10,4,9];\n",
    "\n",
    "vector = [ i1,i2,i3,i4,i5,i6,i7,i8,i9,i10];\n",
    "\n",
    "print(i1);\n",
    "print(i2);\n",
    "print(i3);\n",
    "print(i4);\n",
    "print(i5);\n",
    "print(i6);\n",
    "print(i7);\n",
    "print(i8);\n",
    "print(i9);\n",
    "print(i10);\n",
    "\n",
    "print(vector);"
   ]
  },
  {
   "cell_type": "code",
   "execution_count": 2,
   "metadata": {},
   "outputs": [
    {
     "name": "stdout",
     "output_type": "stream",
     "text": [
      "Vector distancias\n",
      "[1.0, 8.94427190999916, 10.295630140987, 11.61895003862225, 10.392304845413264, 14.696938456699069, 14.798648586948742, 12.922847983320086, 10.954451150103322, 13.784048752090222]\n"
     ]
    }
   ],
   "source": [
    "\n",
    "sum = 0;\n",
    "#Creo un vector para almacenar las distancias\n",
    "vector_distancias = [];\n",
    "for i in range (0, len(vector)):\n",
    "    vector_distancias.append(0);\n",
    "\n",
    "#Evaluamos la distancia euclidiana entre los individuos y el modelo\n",
    "for i in range (0,len(vector)):\n",
    "    for x in range (0,len(m0)):\n",
    "        sum += pow(vector[i][x] - m0[x],2)\n",
    "    raiz = math.sqrt(sum);\n",
    "    vector_distancias[i] = raiz;\n",
    "    sum = 0;\n",
    "\n",
    "print(\"Vector distancias\");\n",
    "print(vector_distancias);\n",
    "\n",
    "copia_distancias = [];\n",
    "for i in range (0, len(vector_distancias)):\n",
    "    copia_distancias.append(vector_distancias[i]);"
   ]
  },
  {
   "cell_type": "code",
   "execution_count": 3,
   "metadata": {},
   "outputs": [
    {
     "name": "stdout",
     "output_type": "stream",
     "text": [
      "4.0\n"
     ]
    }
   ],
   "source": [
    "#Saco el 40% mejor de mi población\n",
    "por_new_gen = (len(vector)*0.4);\n",
    "print(por_new_gen)"
   ]
  },
  {
   "cell_type": "code",
   "execution_count": 4,
   "metadata": {},
   "outputs": [
    {
     "name": "stdout",
     "output_type": "stream",
     "text": [
      "Vector distancias\n",
      "[1.0, 8.94427190999916, 10.295630140987, 11.61895003862225, 10.392304845413264, 14.696938456699069, 14.798648586948742, 12.922847983320086, 10.954451150103322, 13.784048752090222]\n",
      "1.0\n",
      "8.94427190999916\n",
      "10.295630140987\n",
      "11.61895003862225\n"
     ]
    }
   ],
   "source": [
    "print(\"Vector distancias\");\n",
    "print(vector_distancias);\n",
    "\n",
    "vector_menores = [];\n",
    "for i in range (0, int(por_new_gen)):\n",
    "    vector_menores.append(0);\n",
    "\n",
    "for x in range (0, int(por_new_gen)):\n",
    "    menor = vector_distancias[0];\n",
    "    position = 0;\n",
    "    print(vector_distancias[0]);\n",
    "    for i in range (1, len(vector_distancias)):\n",
    "        if(vector_distancias[i] < menor):\n",
    "            position = i;\n",
    "            menor = vector_distancias[i];\n",
    "            \n",
    "    vector_distancias.remove(menor);\n",
    "    vector_menores[x] = menor; "
   ]
  },
  {
   "cell_type": "code",
   "execution_count": 6,
   "metadata": {},
   "outputs": [
    {
     "name": "stdout",
     "output_type": "stream",
     "text": [
      "[[2, 3, 4, 6, 8, 10, 9, 6, 2, 2], [3, 4, 6, 10, 6, 5, 7, 6, 5, 5], [3, 9, 1, 3, 5, 7, 7, 10, 4, 4, 4], [6, 4, 4, 10, 6, 10, 3, 7, 5, 6, 1]]\n"
     ]
    }
   ],
   "source": [
    "for x in range (0, len(vector_menores)):\n",
    "    vector_menores[x] = vector[copia_distancias.index(vector_menores[x])]\n",
    "print(vector_menores)"
   ]
  },
  {
   "cell_type": "code",
   "execution_count": null,
   "metadata": {},
   "outputs": [],
   "source": []
  }
 ],
 "metadata": {
  "kernelspec": {
   "display_name": "Python 3",
   "language": "python",
   "name": "python3"
  },
  "language_info": {
   "codemirror_mode": {
    "name": "ipython",
    "version": 3
   },
   "file_extension": ".py",
   "mimetype": "text/x-python",
   "name": "python",
   "nbconvert_exporter": "python",
   "pygments_lexer": "ipython3",
   "version": "3.7.3"
  }
 },
 "nbformat": 4,
 "nbformat_minor": 2
}
